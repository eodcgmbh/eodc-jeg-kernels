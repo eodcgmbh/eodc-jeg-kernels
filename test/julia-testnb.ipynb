{
 "cells": [
  {
   "cell_type": "code",
   "execution_count": null,
   "id": "1b601f64-cba6-407c-b62c-258629fad7e7",
   "metadata": {},
   "outputs": [],
   "source": [
    "print(0123)"
   ]
  },
  {
   "cell_type": "code",
   "execution_count": null,
   "id": "9176c0fc-8464-4194-b7a5-ec8cae2ddfdc",
   "metadata": {},
   "outputs": [],
   "source": [
    "using Base.Threads\n",
    "\n",
    "\n",
    "results = zeros(100)\n",
    "Threads.@threads for i in 1:100\n",
    "    results[i] = i^2\n",
    "    println(\"Computed for $i on thread $(threadid())\")\n",
    "end\n",
    "\n",
    "println(\"Results: $results\")"
   ]
  },
  {
   "cell_type": "code",
   "execution_count": 4,
   "id": "489153ed-aa5d-48c6-92c8-7d1197ead780",
   "metadata": {},
   "outputs": [
    {
     "name": "stdout",
     "output_type": "stream",
     "text": [
      "Number of threads: 6\n",
      "Starting block matrix multiplication...\n",
      "  2.038268 seconds (22.79 k allocations: 1.490 MiB, 5.16% compilation time)\n",
      "Computation completed.\n",
      "Checksum of result matrix: -4415.359418725857\n"
     ]
    }
   ],
   "source": [
    "using Base.Threads\n",
    "\n",
    "\n",
    "function block_multiply!(C, A, B, block_size)\n",
    "    n = size(A, 1)  # Square matrices\n",
    "\n",
    "    #for ii in 1:block_size:n # single-threaded\n",
    "    @threads for ii in 1:block_size:n # multi-threaded\n",
    "        for jj in 1:block_size:n\n",
    "            for kk in 1:block_size:n\n",
    "                for i in ii:min(ii + block_size - 1, n)\n",
    "                    for j in jj:min(jj + block_size - 1, n)\n",
    "                        for k in kk:min(kk + block_size - 1, n)\n",
    "                            C[i, j] += A[i, k] * B[k, j]\n",
    "                        end\n",
    "                    end\n",
    "                end\n",
    "            end\n",
    "        end\n",
    "    end\n",
    "end\n",
    "\n",
    "\n",
    "function test_multithreaded_matmul()\n",
    "    n = 1024  # Matrix dimensions n^2\n",
    "    block_size = 64  # Decomposition block size\n",
    "\n",
    "    A = randn(n, n)\n",
    "    B = randn(n, n)\n",
    "    C = zeros(n, n)\n",
    "\n",
    "    println(\"Number of threads: $(nthreads())\")\n",
    "    println(\"Starting block matrix multiplication...\")\n",
    "\n",
    "    @time block_multiply!(C, A, B, block_size)\n",
    "\n",
    "    println(\"Computation completed.\")\n",
    "    println(\"Checksum of result matrix: \", sum(C))\n",
    "end\n",
    "\n",
    "\n",
    "test_multithreaded_matmul()"
   ]
  }
 ],
 "metadata": {
  "kernelspec": {
   "display_name": "Julia on Kubernetes",
   "language": "julia",
   "name": "julia_kubernetes"
  },
  "language_info": {
   "file_extension": ".jl",
   "mimetype": "application/julia",
   "name": "julia",
   "version": "1.10.3"
  }
 },
 "nbformat": 4,
 "nbformat_minor": 5
}
